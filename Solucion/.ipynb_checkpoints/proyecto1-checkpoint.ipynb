{
 "cells": [
  {
   "cell_type": "markdown",
   "metadata": {
    "collapsed": true,
    "pycharm": {
     "name": "#%% md\n"
    }
   },
   "source": [
    "# Proyecto 2\n",
    "## 1. Preparando los datos.\n",
    "Los datos se descargan en [Kaggle](https://www.kaggle.com/c/house-prices-advanced-regression-techniques/data)"
   ]
  },
  {
   "cell_type": "code",
   "execution_count": 1,
   "metadata": {
    "pycharm": {
     "name": "#%%\n"
    }
   },
   "outputs": [],
   "source": [
    "#Preparando las bibliotecas a utilizar\n",
    "import pandas as pd\n",
    "import seaborn as sb\n",
    "import numpy as np\n",
    "import matplotlib as mpl"
   ]
  },
  {
   "cell_type": "code",
   "execution_count": 2,
   "metadata": {
    "pycharm": {
     "name": "#%%\n"
    }
   },
   "outputs": [],
   "source": [
    "#Leyendo los datos a utilizar\n",
    "training_data = pd.read_csv('../Datos/train.csv')\n",
    "test_data = pd.read_csv('../Datos/test.csv')"
   ]
  },
  {
   "cell_type": "markdown",
   "metadata": {},
   "source": [
    "Una vez leidos los datos se procede a dar un vistazo de\n",
    "las variables que contiene. En este caso vemos que se trata de\n",
    "una base de datos de **1460** registros y **81**\n",
    "variables. Además se identifica la variable objetivo como **SalePrice**"
   ]
  },
  {
   "cell_type": "code",
   "execution_count": 3,
   "metadata": {
    "pycharm": {
     "name": "#%%\n"
    }
   },
   "outputs": [
    {
     "data": {
      "text/plain": [
       "(1460, 81)"
      ]
     },
     "execution_count": 3,
     "metadata": {},
     "output_type": "execute_result"
    }
   ],
   "source": [
    "training_data.shape"
   ]
  },
  {
   "cell_type": "code",
   "execution_count": 4,
   "metadata": {
    "pycharm": {
     "name": "#%%\n"
    }
   },
   "outputs": [
    {
     "name": "stdout",
     "output_type": "stream",
     "text": [
      "<class 'pandas.core.frame.DataFrame'>\n",
      "RangeIndex: 1460 entries, 0 to 1459\n",
      "Data columns (total 81 columns):\n",
      " #   Column         Non-Null Count  Dtype  \n",
      "---  ------         --------------  -----  \n",
      " 0   Id             1460 non-null   int64  \n",
      " 1   MSSubClass     1460 non-null   int64  \n",
      " 2   MSZoning       1460 non-null   object \n",
      " 3   LotFrontage    1201 non-null   float64\n",
      " 4   LotArea        1460 non-null   int64  \n",
      " 5   Street         1460 non-null   object \n",
      " 6   Alley          91 non-null     object \n",
      " 7   LotShape       1460 non-null   object \n",
      " 8   LandContour    1460 non-null   object \n",
      " 9   Utilities      1460 non-null   object \n",
      " 10  LotConfig      1460 non-null   object \n",
      " 11  LandSlope      1460 non-null   object \n",
      " 12  Neighborhood   1460 non-null   object \n",
      " 13  Condition1     1460 non-null   object \n",
      " 14  Condition2     1460 non-null   object \n",
      " 15  BldgType       1460 non-null   object \n",
      " 16  HouseStyle     1460 non-null   object \n",
      " 17  OverallQual    1460 non-null   int64  \n",
      " 18  OverallCond    1460 non-null   int64  \n",
      " 19  YearBuilt      1460 non-null   int64  \n",
      " 20  YearRemodAdd   1460 non-null   int64  \n",
      " 21  RoofStyle      1460 non-null   object \n",
      " 22  RoofMatl       1460 non-null   object \n",
      " 23  Exterior1st    1460 non-null   object \n",
      " 24  Exterior2nd    1460 non-null   object \n",
      " 25  MasVnrType     1452 non-null   object \n",
      " 26  MasVnrArea     1452 non-null   float64\n",
      " 27  ExterQual      1460 non-null   object \n",
      " 28  ExterCond      1460 non-null   object \n",
      " 29  Foundation     1460 non-null   object \n",
      " 30  BsmtQual       1423 non-null   object \n",
      " 31  BsmtCond       1423 non-null   object \n",
      " 32  BsmtExposure   1422 non-null   object \n",
      " 33  BsmtFinType1   1423 non-null   object \n",
      " 34  BsmtFinSF1     1460 non-null   int64  \n",
      " 35  BsmtFinType2   1422 non-null   object \n",
      " 36  BsmtFinSF2     1460 non-null   int64  \n",
      " 37  BsmtUnfSF      1460 non-null   int64  \n",
      " 38  TotalBsmtSF    1460 non-null   int64  \n",
      " 39  Heating        1460 non-null   object \n",
      " 40  HeatingQC      1460 non-null   object \n",
      " 41  CentralAir     1460 non-null   object \n",
      " 42  Electrical     1459 non-null   object \n",
      " 43  1stFlrSF       1460 non-null   int64  \n",
      " 44  2ndFlrSF       1460 non-null   int64  \n",
      " 45  LowQualFinSF   1460 non-null   int64  \n",
      " 46  GrLivArea      1460 non-null   int64  \n",
      " 47  BsmtFullBath   1460 non-null   int64  \n",
      " 48  BsmtHalfBath   1460 non-null   int64  \n",
      " 49  FullBath       1460 non-null   int64  \n",
      " 50  HalfBath       1460 non-null   int64  \n",
      " 51  BedroomAbvGr   1460 non-null   int64  \n",
      " 52  KitchenAbvGr   1460 non-null   int64  \n",
      " 53  KitchenQual    1460 non-null   object \n",
      " 54  TotRmsAbvGrd   1460 non-null   int64  \n",
      " 55  Functional     1460 non-null   object \n",
      " 56  Fireplaces     1460 non-null   int64  \n",
      " 57  FireplaceQu    770 non-null    object \n",
      " 58  GarageType     1379 non-null   object \n",
      " 59  GarageYrBlt    1379 non-null   float64\n",
      " 60  GarageFinish   1379 non-null   object \n",
      " 61  GarageCars     1460 non-null   int64  \n",
      " 62  GarageArea     1460 non-null   int64  \n",
      " 63  GarageQual     1379 non-null   object \n",
      " 64  GarageCond     1379 non-null   object \n",
      " 65  PavedDrive     1460 non-null   object \n",
      " 66  WoodDeckSF     1460 non-null   int64  \n",
      " 67  OpenPorchSF    1460 non-null   int64  \n",
      " 68  EnclosedPorch  1460 non-null   int64  \n",
      " 69  3SsnPorch      1460 non-null   int64  \n",
      " 70  ScreenPorch    1460 non-null   int64  \n",
      " 71  PoolArea       1460 non-null   int64  \n",
      " 72  PoolQC         7 non-null      object \n",
      " 73  Fence          281 non-null    object \n",
      " 74  MiscFeature    54 non-null     object \n",
      " 75  MiscVal        1460 non-null   int64  \n",
      " 76  MoSold         1460 non-null   int64  \n",
      " 77  YrSold         1460 non-null   int64  \n",
      " 78  SaleType       1460 non-null   object \n",
      " 79  SaleCondition  1460 non-null   object \n",
      " 80  SalePrice      1460 non-null   int64  \n",
      "dtypes: float64(3), int64(35), object(43)\n",
      "memory usage: 924.0+ KB\n"
     ]
    }
   ],
   "source": [
    "training_data.info()\n"
   ]
  },
  {
   "cell_type": "markdown",
   "metadata": {},
   "source": [
    "De estas 81 variables hay algunas que en particular llaman mucho la atención, debido a la gran\n",
    "cantidad de valores con NAN.\n",
    "Estas son:\n",
    "\n",
    "- Alley\n",
    "- FireplaceQu\n",
    "- PoolQC\n",
    "- Fence\n",
    "- MiscFeature\n",
    "\n",
    "Estas deberán ser estudiadas a detalle antes de realizar los modelos."
   ]
  },
  {
   "cell_type": "markdown",
   "metadata": {},
   "source": [
    "## 2. Separando los datos de la variable objetivo\n",
    "Se separan los datos de la variable objetivo para hacer la matriz de correlaciones y\n",
    "el modelo."
   ]
  },
  {
   "cell_type": "code",
   "execution_count": 5,
   "metadata": {
    "pycharm": {
     "name": "#%%\n"
    }
   },
   "outputs": [],
   "source": [
    "y = training_data.SalePrice\n",
    "target = training_data.drop(['SalePrice'], axis=1)"
   ]
  },
  {
   "cell_type": "code",
   "execution_count": 6,
   "metadata": {
    "pycharm": {
     "name": "#%%\n"
    }
   },
   "outputs": [],
   "source": [
    "correlaciones = target.corr()"
   ]
  },
  {
   "cell_type": "markdown",
   "metadata": {},
   "source": [
    "Como es era esperado, la matriz de correlaciones es de 37x37. Ya que de las 80 variables 37 son numéricas y\n",
    "43 son categóricas.\n",
    "Como resulta díficil visualizar la matriz de correlaciones se construye una visualización utilizando la biblioteca\n",
    "seaborn."
   ]
  },
  {
   "cell_type": "code",
   "execution_count": 7,
   "metadata": {
    "pycharm": {
     "name": "#%%\n"
    }
   },
   "outputs": [
    {
     "data": {
      "text/plain": [
       "<AxesSubplot:>"
      ]
     },
     "execution_count": 7,
     "metadata": {},
     "output_type": "execute_result"
    },
    {
     "data": {
      "image/png": "[encoded data removed]",
      "text/plain": [
       "<Figure size 1440x1440 with 2 Axes>"
      ]
     },
     "metadata": {
      "needs_background": "light"
     },
     "output_type": "display_data"
    }
   ],
   "source": [
    "mask = np.triu(np.ones_like(correlaciones, dtype=\"bool\"))\n",
    "_, ax = mpl.pyplot.subplots(figsize=(20,20))\n",
    "sb.heatmap(correlaciones, mask=mask, cmap='BrBG', ax = ax)"
   ]
  },
  {
   "cell_type": "markdown",
   "metadata": {},
   "source": [
    "Se observan variables fuertemente correlacionadas.\n",
    "Con correlación positiva:\n",
    "- 1stFlrSF: First Floor square feet y TotalBsmtSF: Total square feet of basement area\n",
    "- TotRmsAbvGrd: Total rooms above grade (does not include bathrooms) y GrLivArea: Above grade (ground) living area square feet\n",
    "- GarageArea: Size of garage in square feet y GarageCars: Size of garage in car capacity\n",
    "\n",
    "Con correlación negativa:\n",
    "- BsmtFullBath: Basement full bathrooms y BsmtUnfSF: Unfinished square feet of basement area\n",
    "- EnclosedPorch: Enclosed porch area in square feet y YearBuilt: Original construction date\n",
    "- EnclosedPorch: Enclosed porch area in square feet y GarageYrBlt: Year garage was built"
   ]
  },
  {
   "cell_type": "markdown",
   "metadata": {},
   "source": [
    "## 3. Primer análisis de variables con pocos datos (NANs)\n",
    "Se calcula los porcentajes de NA en las variables."
   ]
  },
  {
   "cell_type": "code",
   "execution_count": 8,
   "metadata": {
    "pycharm": {
     "name": "#%%\n"
    }
   },
   "outputs": [
    {
     "data": {
      "text/plain": [
       "[('Id', 0.0),\n",
       " ('MSSubClass', 0.0),\n",
       " ('MSZoning', 0.0),\n",
       " ('LotArea', 0.0),\n",
       " ('Street', 0.0),\n",
       " ('LotShape', 0.0),\n",
       " ('LandContour', 0.0),\n",
       " ('Utilities', 0.0),\n",
       " ('LotConfig', 0.0),\n",
       " ('LandSlope', 0.0),\n",
       " ('Neighborhood', 0.0),\n",
       " ('Condition1', 0.0),\n",
       " ('Condition2', 0.0),\n",
       " ('BldgType', 0.0),\n",
       " ('HouseStyle', 0.0),\n",
       " ('OverallQual', 0.0),\n",
       " ('OverallCond', 0.0),\n",
       " ('YearBuilt', 0.0),\n",
       " ('YearRemodAdd', 0.0),\n",
       " ('RoofStyle', 0.0),\n",
       " ('RoofMatl', 0.0),\n",
       " ('Exterior1st', 0.0),\n",
       " ('Exterior2nd', 0.0),\n",
       " ('ExterQual', 0.0),\n",
       " ('ExterCond', 0.0),\n",
       " ('Foundation', 0.0),\n",
       " ('BsmtFinSF1', 0.0),\n",
       " ('BsmtFinSF2', 0.0),\n",
       " ('BsmtUnfSF', 0.0),\n",
       " ('TotalBsmtSF', 0.0),\n",
       " ('Heating', 0.0),\n",
       " ('HeatingQC', 0.0),\n",
       " ('CentralAir', 0.0),\n",
       " ('1stFlrSF', 0.0),\n",
       " ('2ndFlrSF', 0.0),\n",
       " ('LowQualFinSF', 0.0),\n",
       " ('GrLivArea', 0.0),\n",
       " ('BsmtFullBath', 0.0),\n",
       " ('BsmtHalfBath', 0.0),\n",
       " ('FullBath', 0.0),\n",
       " ('HalfBath', 0.0),\n",
       " ('BedroomAbvGr', 0.0),\n",
       " ('KitchenAbvGr', 0.0),\n",
       " ('KitchenQual', 0.0),\n",
       " ('TotRmsAbvGrd', 0.0),\n",
       " ('Functional', 0.0),\n",
       " ('Fireplaces', 0.0),\n",
       " ('GarageCars', 0.0),\n",
       " ('GarageArea', 0.0),\n",
       " ('PavedDrive', 0.0),\n",
       " ('WoodDeckSF', 0.0),\n",
       " ('OpenPorchSF', 0.0),\n",
       " ('EnclosedPorch', 0.0),\n",
       " ('3SsnPorch', 0.0),\n",
       " ('ScreenPorch', 0.0),\n",
       " ('PoolArea', 0.0),\n",
       " ('MiscVal', 0.0),\n",
       " ('MoSold', 0.0),\n",
       " ('YrSold', 0.0),\n",
       " ('SaleType', 0.0),\n",
       " ('SaleCondition', 0.0),\n",
       " ('Electrical', 0.0684931506849315),\n",
       " ('MasVnrType', 0.547945205479452),\n",
       " ('MasVnrArea', 0.547945205479452),\n",
       " ('BsmtQual', 2.5342465753424657),\n",
       " ('BsmtCond', 2.5342465753424657),\n",
       " ('BsmtFinType1', 2.5342465753424657),\n",
       " ('BsmtExposure', 2.6027397260273974),\n",
       " ('BsmtFinType2', 2.6027397260273974),\n",
       " ('GarageType', 5.5479452054794525),\n",
       " ('GarageYrBlt', 5.5479452054794525),\n",
       " ('GarageFinish', 5.5479452054794525),\n",
       " ('GarageQual', 5.5479452054794525),\n",
       " ('GarageCond', 5.5479452054794525),\n",
       " ('LotFrontage', 17.73972602739726),\n",
       " ('FireplaceQu', 47.26027397260274),\n",
       " ('Fence', 80.75342465753424),\n",
       " ('Alley', 93.76712328767123),\n",
       " ('MiscFeature', 96.30136986301369),\n",
       " ('PoolQC', 99.52054794520548)]"
      ]
     },
     "execution_count": 8,
     "metadata": {},
     "output_type": "execute_result"
    }
   ],
   "source": [
    "porcentajes = {}\n",
    "for column in list(target.columns):\n",
    "    porcentajes[column] = len(target[column][target[column].isna()==True]) / len(target[column]) *100\n",
    "sorted(porcentajes.items(), key=lambda x:x[1])"
   ]
  },
  {
   "cell_type": "markdown",
   "metadata": {},
   "source": [
    "En este análisis se puede ver que hay columnas con 5.54% de datos con NAN y luego el número que les sigue es 17.73%\n",
    "(LotFrontAge). Así, parece razonable descartar todas aquellas columnas que tienen más del 10% de datos perdidos, pero antes\n",
    "se debe realizar un análisis de la nomenclatura de la variable.\n",
    "- LotFrontage: es una variable continua, al no haber dato no se puede inferir nada.\n",
    "- FireplaceQu: es una variable ordinal. NA significa que la casa no tiene chimenea. En este caso esta variable podría ser\n",
    "recodificada.\n",
    "- Fence: Fence quality, variable ordinal. NA significa que la casa no tiene cerca. Al igual que el caso anterior la variable\n",
    "podría ser recodificada.\n",
    "- Alley: esta variable es nominal y describe el paso de servidumbre. NA significa que la casa no tiene paso de servidumbre.\n",
    "La variable puede ser recodificada.\n",
    "- MiscFeature: esta variable describe comodidades extras del hogar. El NA indica que la casa no tiene extras de lujo.\n",
    "Esta variable también se podría recodificar.\n",
    "- PoolQC: variable ordinal que describe la calidad de la piscina. NA se pone en caso la casa no tiene piscina. Esta variable\n",
    "es candidata a ser recodificada.\n",
    "\n",
    "Con esto, resulta conveniente graficar estas variables para ver su comportamiento."
   ]
  },
  {
   "cell_type": "code",
   "execution_count": null,
   "metadata": {},
   "outputs": [],
   "source": []
  },
  {
   "cell_type": "code",
   "execution_count": 9,
   "metadata": {
    "pycharm": {
     "name": "#%%\n"
    }
   },
   "outputs": [
    {
     "name": "stdout",
     "output_type": "stream",
     "text": [
      "['LotFrontage', 'Alley', 'FireplaceQu', 'PoolQC', 'Fence', 'MiscFeature']\n",
      "(1460, 74)\n"
     ]
    }
   ],
   "source": [
    "\n",
    "columnas_removidas = []\n",
    "for x in porcentajes:\n",
    "    if porcentajes[x] >=10:\n",
    "        columnas_removidas.append(x)\n",
    "print(columnas_removidas)\n",
    "target = target.drop(columnas_removidas, axis=1)\n",
    "print(target.shape)"
   ]
  },
  {
   "cell_type": "markdown",
   "metadata": {
    "pycharm": {
     "name": "#%% md\n"
    }
   },
   "source": [
    "## 4. Estudio de variables y recodificación\n",
    "En esta parte se separan las variables continuas de las discretas. Recordamos que las\n",
    "variables discretas se clasifican en:\n",
    "- Nominales\n",
    "- Dicotómicas\n",
    "- Ordinales\n",
    "\n"
   ]
  },
  {
   "cell_type": "code",
   "execution_count": null,
   "metadata": {
    "pycharm": {
     "name": "#%%\n"
    }
   },
   "outputs": [],
   "source": []
  }
 ],
 "metadata": {
  "kernelspec": {
   "display_name": "PyCharm (Proyecto2---Inteligencia-Artificial)",
   "language": "python",
   "name": "pycharm-5d283dc5"
  },
  "language_info": {
   "codemirror_mode": {
    "name": "ipython",
    "version": 3
   },
   "file_extension": ".py",
   "mimetype": "text/x-python",
   "name": "python",
   "nbconvert_exporter": "python",
   "pygments_lexer": "ipython3",
   "version": "3.9.7"
  }
 },
 "nbformat": 4,
 "nbformat_minor": 1
}
